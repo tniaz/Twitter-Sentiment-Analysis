{
 "cells": [
  {
   "cell_type": "code",
   "execution_count": 1,
   "metadata": {},
   "outputs": [],
   "source": [
    "from twitterscraper import query_tweets #import twitterscraper API\n",
    "from textblob import TextBlob #import TextBlob API"
   ]
  },
  {
   "cell_type": "code",
   "execution_count": null,
   "metadata": {},
   "outputs": [
    {
     "name": "stdout",
     "output_type": "stream",
     "text": [
      "Enter tag(s) to search for using AND/OR for multiple tags: Bitcoin AND BTC\n"
     ]
    },
    {
     "name": "stderr",
     "output_type": "stream",
     "text": [
      "INFO: queries: ['Bitcoin AND BTC since:2006-03-21 until:2006-11-02', 'Bitcoin AND BTC since:2006-11-02 until:2007-06-16', 'Bitcoin AND BTC since:2007-06-16 until:2008-01-28', 'Bitcoin AND BTC since:2008-01-28 until:2008-09-11', 'Bitcoin AND BTC since:2008-09-11 until:2009-04-25', 'Bitcoin AND BTC since:2009-04-25 until:2009-12-07', 'Bitcoin AND BTC since:2009-12-07 until:2010-07-21', 'Bitcoin AND BTC since:2010-07-21 until:2011-03-05', 'Bitcoin AND BTC since:2011-03-05 until:2011-10-17', 'Bitcoin AND BTC since:2011-10-17 until:2012-05-30', 'Bitcoin AND BTC since:2012-05-30 until:2013-01-11', 'Bitcoin AND BTC since:2013-01-11 until:2013-08-26', 'Bitcoin AND BTC since:2013-08-26 until:2014-04-09', 'Bitcoin AND BTC since:2014-04-09 until:2014-11-21', 'Bitcoin AND BTC since:2014-11-21 until:2015-07-05', 'Bitcoin AND BTC since:2015-07-05 until:2016-02-17', 'Bitcoin AND BTC since:2016-02-17 until:2016-09-30', 'Bitcoin AND BTC since:2016-09-30 until:2017-05-14', 'Bitcoin AND BTC since:2017-05-14 until:2017-12-26', 'Bitcoin AND BTC since:2017-12-26 until:2018-08-10']\n",
      "INFO: Querying Bitcoin AND BTC since:2007-06-16 until:2008-01-28\n",
      "INFO: Querying Bitcoin AND BTC since:2006-03-21 until:2006-11-02\n",
      "INFO: Querying Bitcoin AND BTC since:2006-11-02 until:2007-06-16\n",
      "INFO: Querying Bitcoin AND BTC since:2008-01-28 until:2008-09-11\n",
      "INFO: Querying Bitcoin AND BTC since:2008-09-11 until:2009-04-25\n",
      "INFO: Querying Bitcoin AND BTC since:2009-04-25 until:2009-12-07\n",
      "INFO: Querying Bitcoin AND BTC since:2009-12-07 until:2010-07-21\n",
      "INFO: Querying Bitcoin AND BTC since:2011-03-05 until:2011-10-17\n",
      "INFO: Querying Bitcoin AND BTC since:2010-07-21 until:2011-03-05\n",
      "INFO: Querying Bitcoin AND BTC since:2012-05-30 until:2013-01-11\n",
      "INFO: Querying Bitcoin AND BTC since:2011-10-17 until:2012-05-30\n",
      "INFO: Querying Bitcoin AND BTC since:2013-08-26 until:2014-04-09\n",
      "INFO: Querying Bitcoin AND BTC since:2013-01-11 until:2013-08-26\n",
      "INFO: Querying Bitcoin AND BTC since:2014-11-21 until:2015-07-05\n",
      "INFO: Querying Bitcoin AND BTC since:2015-07-05 until:2016-02-17\n",
      "INFO: Querying Bitcoin AND BTC since:2016-02-17 until:2016-09-30\n",
      "INFO: Querying Bitcoin AND BTC since:2014-04-09 until:2014-11-21\n",
      "INFO: Querying Bitcoin AND BTC since:2016-09-30 until:2017-05-14\n",
      "INFO: Querying Bitcoin AND BTC since:2017-05-14 until:2017-12-26\n",
      "INFO: Querying Bitcoin AND BTC since:2017-12-26 until:2018-08-10\n"
     ]
    }
   ],
   "source": [
    "#scrape Twitter for user specified tags\n",
    "tag=input(\"Enter tag(s) to search for using AND/OR for multiple tags: \")\n",
    "\n",
    "for tweet in query_tweets(tag, 10)[:10]:\n",
    "    print(tweet.text.encode('utf-8'))\n",
    "    print(tweet.user.encode('utf-8'))"
   ]
  },
  {
   "cell_type": "code",
   "execution_count": null,
   "metadata": {},
   "outputs": [],
   "source": []
  },
  {
   "cell_type": "code",
   "execution_count": null,
   "metadata": {},
   "outputs": [],
   "source": []
  }
 ],
 "metadata": {
  "kernelspec": {
   "display_name": "Python 3",
   "language": "python",
   "name": "python3"
  },
  "language_info": {
   "codemirror_mode": {
    "name": "ipython",
    "version": 3
   },
   "file_extension": ".py",
   "mimetype": "text/x-python",
   "name": "python",
   "nbconvert_exporter": "python",
   "pygments_lexer": "ipython3",
   "version": "3.6.5"
  }
 },
 "nbformat": 4,
 "nbformat_minor": 2
}

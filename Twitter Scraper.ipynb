{
 "cells": [
  {
   "cell_type": "code",
   "execution_count": 18,
   "metadata": {},
   "outputs": [],
   "source": [
    "import twint #import twint scraper API"
   ]
  },
  {
   "cell_type": "code",
   "execution_count": 3,
   "metadata": {},
   "outputs": [
    {
     "name": "stdout",
     "output_type": "stream",
     "text": [
      "Enter tag(s) to search for using AND/OR for multiple tags: Bitcoin\n"
     ]
    }
   ],
   "source": [
    "#scrape Twitter for user specified tags\n",
    "tag=input(\"Enter tag(s) to search for using AND/OR for multiple tags: \")"
   ]
  },
  {
   "cell_type": "code",
   "execution_count": 19,
   "metadata": {},
   "outputs": [],
   "source": [
    "#Configure\n",
    "c = twint.Config()\n",
    "c.Search = tag\n",
    "c.Format = \"{tweet}\"\n",
    "c.Limit=100\n",
    "c.Output=\"tweets.csv\""
   ]
  },
  {
   "cell_type": "code",
   "execution_count": 20,
   "metadata": {},
   "outputs": [
    {
     "ename": "RuntimeError",
     "evalue": "This event loop is already running",
     "output_type": "error",
     "traceback": [
      "\u001b[0;31m---------------------------------------------------------------------------\u001b[0m",
      "\u001b[0;31mRuntimeError\u001b[0m                              Traceback (most recent call last)",
      "\u001b[0;32m<ipython-input-20-ca1bc94083e7>\u001b[0m in \u001b[0;36m<module>\u001b[0;34m()\u001b[0m\n\u001b[1;32m      1\u001b[0m \u001b[0;31m#Run\u001b[0m\u001b[0;34m\u001b[0m\u001b[0;34m\u001b[0m\u001b[0m\n\u001b[0;32m----> 2\u001b[0;31m \u001b[0mtwint\u001b[0m\u001b[0;34m.\u001b[0m\u001b[0mrun\u001b[0m\u001b[0;34m.\u001b[0m\u001b[0mSearch\u001b[0m\u001b[0;34m(\u001b[0m\u001b[0mc\u001b[0m\u001b[0;34m)\u001b[0m\u001b[0;34m\u001b[0m\u001b[0m\n\u001b[0m",
      "\u001b[0;32m~/Documents/Python/anaconda3/lib/python3.6/site-packages/twint/run.py\u001b[0m in \u001b[0;36mSearch\u001b[0;34m(config)\u001b[0m\n\u001b[1;32m    135\u001b[0m \u001b[0;32mdef\u001b[0m \u001b[0mSearch\u001b[0m\u001b[0;34m(\u001b[0m\u001b[0mconfig\u001b[0m\u001b[0;34m)\u001b[0m\u001b[0;34m:\u001b[0m\u001b[0;34m\u001b[0m\u001b[0m\n\u001b[1;32m    136\u001b[0m     \u001b[0mconfig\u001b[0m\u001b[0;34m.\u001b[0m\u001b[0mTwitterSearch\u001b[0m \u001b[0;34m=\u001b[0m \u001b[0;32mTrue\u001b[0m\u001b[0;34m\u001b[0m\u001b[0m\n\u001b[0;32m--> 137\u001b[0;31m     \u001b[0mrun\u001b[0m\u001b[0;34m(\u001b[0m\u001b[0mconfig\u001b[0m\u001b[0;34m)\u001b[0m\u001b[0;34m\u001b[0m\u001b[0m\n\u001b[0m",
      "\u001b[0;32m~/Documents/Python/anaconda3/lib/python3.6/site-packages/twint/run.py\u001b[0m in \u001b[0;36mrun\u001b[0;34m(config)\u001b[0m\n\u001b[1;32m    115\u001b[0m \u001b[0;34m\u001b[0m\u001b[0m\n\u001b[1;32m    116\u001b[0m \u001b[0;32mdef\u001b[0m \u001b[0mrun\u001b[0m\u001b[0;34m(\u001b[0m\u001b[0mconfig\u001b[0m\u001b[0;34m)\u001b[0m\u001b[0;34m:\u001b[0m\u001b[0;34m\u001b[0m\u001b[0m\n\u001b[0;32m--> 117\u001b[0;31m     \u001b[0mget_event_loop\u001b[0m\u001b[0;34m(\u001b[0m\u001b[0;34m)\u001b[0m\u001b[0;34m.\u001b[0m\u001b[0mrun_until_complete\u001b[0m\u001b[0;34m(\u001b[0m\u001b[0mTwint\u001b[0m\u001b[0;34m(\u001b[0m\u001b[0mconfig\u001b[0m\u001b[0;34m)\u001b[0m\u001b[0;34m.\u001b[0m\u001b[0mmain\u001b[0m\u001b[0;34m(\u001b[0m\u001b[0;34m)\u001b[0m\u001b[0;34m)\u001b[0m\u001b[0;34m\u001b[0m\u001b[0m\n\u001b[0m\u001b[1;32m    118\u001b[0m \u001b[0;34m\u001b[0m\u001b[0m\n\u001b[1;32m    119\u001b[0m \u001b[0;32mdef\u001b[0m \u001b[0mFavorites\u001b[0m\u001b[0;34m(\u001b[0m\u001b[0mconfig\u001b[0m\u001b[0;34m)\u001b[0m\u001b[0;34m:\u001b[0m\u001b[0;34m\u001b[0m\u001b[0m\n",
      "\u001b[0;32m~/Documents/Python/anaconda3/lib/python3.6/asyncio/base_events.py\u001b[0m in \u001b[0;36mrun_until_complete\u001b[0;34m(self, future)\u001b[0m\n\u001b[1;32m    453\u001b[0m         \u001b[0mfuture\u001b[0m\u001b[0;34m.\u001b[0m\u001b[0madd_done_callback\u001b[0m\u001b[0;34m(\u001b[0m\u001b[0m_run_until_complete_cb\u001b[0m\u001b[0;34m)\u001b[0m\u001b[0;34m\u001b[0m\u001b[0m\n\u001b[1;32m    454\u001b[0m         \u001b[0;32mtry\u001b[0m\u001b[0;34m:\u001b[0m\u001b[0;34m\u001b[0m\u001b[0m\n\u001b[0;32m--> 455\u001b[0;31m             \u001b[0mself\u001b[0m\u001b[0;34m.\u001b[0m\u001b[0mrun_forever\u001b[0m\u001b[0;34m(\u001b[0m\u001b[0;34m)\u001b[0m\u001b[0;34m\u001b[0m\u001b[0m\n\u001b[0m\u001b[1;32m    456\u001b[0m         \u001b[0;32mexcept\u001b[0m\u001b[0;34m:\u001b[0m\u001b[0;34m\u001b[0m\u001b[0m\n\u001b[1;32m    457\u001b[0m             \u001b[0;32mif\u001b[0m \u001b[0mnew_task\u001b[0m \u001b[0;32mand\u001b[0m \u001b[0mfuture\u001b[0m\u001b[0;34m.\u001b[0m\u001b[0mdone\u001b[0m\u001b[0;34m(\u001b[0m\u001b[0;34m)\u001b[0m \u001b[0;32mand\u001b[0m \u001b[0;32mnot\u001b[0m \u001b[0mfuture\u001b[0m\u001b[0;34m.\u001b[0m\u001b[0mcancelled\u001b[0m\u001b[0;34m(\u001b[0m\u001b[0;34m)\u001b[0m\u001b[0;34m:\u001b[0m\u001b[0;34m\u001b[0m\u001b[0m\n",
      "\u001b[0;32m~/Documents/Python/anaconda3/lib/python3.6/asyncio/base_events.py\u001b[0m in \u001b[0;36mrun_forever\u001b[0;34m(self)\u001b[0m\n\u001b[1;32m    407\u001b[0m         \u001b[0mself\u001b[0m\u001b[0;34m.\u001b[0m\u001b[0m_check_closed\u001b[0m\u001b[0;34m(\u001b[0m\u001b[0;34m)\u001b[0m\u001b[0;34m\u001b[0m\u001b[0m\n\u001b[1;32m    408\u001b[0m         \u001b[0;32mif\u001b[0m \u001b[0mself\u001b[0m\u001b[0;34m.\u001b[0m\u001b[0mis_running\u001b[0m\u001b[0;34m(\u001b[0m\u001b[0;34m)\u001b[0m\u001b[0;34m:\u001b[0m\u001b[0;34m\u001b[0m\u001b[0m\n\u001b[0;32m--> 409\u001b[0;31m             \u001b[0;32mraise\u001b[0m \u001b[0mRuntimeError\u001b[0m\u001b[0;34m(\u001b[0m\u001b[0;34m'This event loop is already running'\u001b[0m\u001b[0;34m)\u001b[0m\u001b[0;34m\u001b[0m\u001b[0m\n\u001b[0m\u001b[1;32m    410\u001b[0m         \u001b[0;32mif\u001b[0m \u001b[0mevents\u001b[0m\u001b[0;34m.\u001b[0m\u001b[0m_get_running_loop\u001b[0m\u001b[0;34m(\u001b[0m\u001b[0;34m)\u001b[0m \u001b[0;32mis\u001b[0m \u001b[0;32mnot\u001b[0m \u001b[0;32mNone\u001b[0m\u001b[0;34m:\u001b[0m\u001b[0;34m\u001b[0m\u001b[0m\n\u001b[1;32m    411\u001b[0m             raise RuntimeError(\n",
      "\u001b[0;31mRuntimeError\u001b[0m: This event loop is already running"
     ]
    },
    {
     "name": "stdout",
     "output_type": "stream",
     "text": [
      "#bitcoin #Ethereum #Litecoin #Dash #Doge #p2p #Blockchain #crypto #cripto #criptomonedas #Venezuela #vzla #ComunidadCryptoWay pic.twitter.com/zySfgY95GS\n",
      "Ripple (XRP) CEO asseverates China controls at least a 50% of Bitcoin  http://rplg.co/399a34e0  #fintech via @AliQammar57\n",
      "Imagine a world where every service is trustless and there is no need for third parties. This is the future #blockchain #bitcoin\n",
      "Exec Who Denied Ripple Is ‘Distributed Ledger’ Says XRP ‘More Decentralized Than Bitcoin’  http://rplg.co/60121cb0  #blockchain $BTC $ETH #bitcoin\n",
      "$BTCUSD CLIMBS TO HIGHEST CLOSE SINCE AUGUST 6TH:  https://techniquant.com/reports/crypto-btcusd-daily-technical-analysis-report-for-2018-08-25/ …Sentiment: Neutral #BTCUSD #BTC #Bitcoin\n",
      "$BTCUSD CLIMBS TO HIGHEST CLOSE SINCE AUGUST 6TH:  https://techniquant.com/reports/crypto-btcusd-daily-technical-analysis-report-for-2018-08-25/ …Sentiment: Neutral #BTCUSD #BTC #Bitcoin\n",
      "When an employee auctions off an unwanted gift voucher from, say, a noted Boston seafood restaurant, the URT Holders will determine the value of that voucher by means of their bids. @ur_token #URT #URToken #TokenSale #ICO #bitcoin #ethereum #crypto #cryptocurrency #recognition\n",
      "@Bitcoin_Jim yeah\n",
      "@Officialegoods A project that has an amazing program that will prosper the consumer and be able to change your life when joining this project, please join! #ethereum, #bitcoin, #cryptocurrency, #money, #shopping, #tips, #moneysaving, #budget\n",
      "Bitcoin Bull Flag Forming! More Upward Movement For Crypto Markets Soon? BTC, ETH, & LTC News!  http://www.bitcoinvigilance.com/bitcoin/bitcoin-bull-flag-forming-more-upward-movement-for-crypto-markets-soon-btc-eth-ltc-news/ … pic.twitter.com/TPHQbHFItj\n",
      " http://coinbots.download ,  http://coinbots.review ,  http://coinbots.win  &  http://coinbots.trade  now $50 each!#bitcoin #coinbots #cryptocurrency #exchange #markets #ai #cryptobot #ArtificialIntelligence #coin #MachineLearning #bot #trade #bots #trading #crypto #domainsforsale pic.twitter.com/T0SrQ4FR55\n",
      "Current Bitcoin PriceAll Forks = $7,323.23 📈  0.28% --$BTC = $6,759.10 📈  0.30% $BCH = $537.24 📈  0.09% $BTG = $19.88 📉  -1.76% $BCD = $1.27 📉  -0.24% $SBTC = $5.74 📉  -1.60%\n",
      "@Cryptorandyy $100 = 5 cent in paper and ink! what makes u think this?7.442 billion people 21 million bitcoinsay no moor!#cryptocurrency#bitcoin#mining\n",
      "#CriptoDolar #Bitcoin#25Aug  08:08:18 PM#BTC 6,758.15 USD | 0.29% #ETH 279.32 USD | -0.38% #DASH 144.82 USD | 0.51% #PAB 🇵🇦 BTC 6,869.36 PAB #USD 🇺🇸 BTC 7,096.39 USD #EUR 🇪🇺 BTC 5,818.88 EUR #VEF 🇻🇪 BTC 659,689 BS #VEFUSD 94 BS  #VEN\n",
      "r/Crypto_Currency_News - #bitcoin Bull Flag Forming More Upward Movement For Crypto Markets Soon?  https://www.reddit.com/r/Crypto_Currency_News/comments/9abcbn/bitcoin_bull_flag_forming_more_upward_movement … pic.twitter.com/iVDuGXrWBB\n",
      "Capital Technologies & Research will revolutionize the current telecommunication industry, changing the economic and social landscape of digital media and communications worldwide. @capital_company #CapitalTechnologiesResearch #blockchain #privacy #security #ethereum #bitcoin\n",
      "@CalvinAyre @SchoenfeldH @crypto_daze @VitalikButerin @BittBurger @RoccoForte13 Whomever it may be ... the setting was different back then. Way more civilised because miners had the power! Bitcoin was set in stone!\n",
      "Korea priceTime: 08/26 09:02:08BTC: 7,598,625 KRWETH: 313,737 KRWXRP: 368 KRW#Bitcoin #Ethereum #Ripple\n",
      "Bitcoin、Litecoin、Monero、DASHなどを完全匿名で現金で個人間で簡単に対面売買することができるサイト、btc-trade-p2pの運営をしております。ご質問などがあれば、お気軽にどうぞ。よろしくお願いいたします。#暗号通貨　#Bitcoin　#BTC　#ビットコイン\n",
      "[NEW POST]: Samsung Board of Directors Create Neural Network Bitcoin Hardware to Interconnect All IoT Devices - Skynet Open Network +  https://www.reddit.com/r/CryptoCurrency/comments/9abdjs/samsung_board_of_directors_create_neural_network/ … #cryptocurrency #crypto\n",
      "Bitcoin Price Watch: Currency Shows Signs of Maturing, Hits $6,700  https://nulltx.com/bitcoin-price-watch-currency-shows-signs-of-maturing-hits-6700/ …\n",
      "#NortontokenNortonchain is an improved technology in the revolution of blockchains. Join this promising project! #cryptoexchange #bitcoin #Nortontoken #Nortonchain #NortonExchange\n",
      "Stop worrying about how much energy bitcoin uses  https://phys.org/news/2018-08-energy-bitcoin.html … via @physorg_com\n",
      "A video about  http://youtu.be/jWmp-xGVqB0  Gold investor John Hathaway 'Bitcoin Is Garbage'\n",
      "#bitcoin Bull Flag Forming! More Upward Movement For Crypto Markets Soon?  http://www.xn--nnaa.cc/Qh4xQ1ɔɔ.cc/Qh4xQ1  #Crypto_Currency_News #cc #cryptocurrency #news\n",
      "📣 Bitcoin Battered Back Below $7,000 As Goldman “Expects Further Declines”  https://hedgeaccordingly.com/2018/08/bitcoin-battered-back-below-7000-as-goldman-expects-further-declines/ …🗞️ First Hit the Wires on August 4, 2018@10:35am #WallSt\n",
      "@BigCheds Imagine if you were one of the first colonists to the new world and you have the option to claim a piece of Manhattan. This is 2018 and Manhattan is Bitcoin.\n",
      "@CryptoCalder Is possible for bitcoin to retrace shortly to 6600 and cause some dumps across the altcoin market\n",
      "Target 1 reached on @signals_premium within 4 days ~13% profit #Simple Token (#OST) $OSTSign up to access all our trade signals ->  http://thesignal.io/register.html #bitcoin #altcoin #trading #cryptocurrency #bittrex #binance #暗号通貨 pic.twitter.com/UKoI80anbh\n",
      "@bitcoin_better @pastorjude84 @IChukwuwinke @coinmaster16\n",
      "Bitcoin Price Could End Day With Tightest Trading Range of 2018  http://bit.ly/2P7to5u \n",
      "reddit 🤖: Bitcoin Bull Flag Forming! More Upward Movement For Crypto Markets Soon?  http://zpr.io/6ysmN \n",
      "#arawtoken #icosale #ecommerce #payment #ether #ethereum #bitcoin #cryptocurrency #ICO #tokensale #arawpay #btc https://twitter.com/arawtoken/status/1033292911948038144 …\n",
      "Do you have an idea for #trading?  Just start coding in the pine editor and start coding...  #BTC #affiliatemarketing For more info GoTo ->  http://tradingview.go2cloud.org/aff_ad?campaign_id=1497&aff_id=12239&format=url …    Can you #ReTweet this for me, Thanks  #Bitcoin $BTC pic.twitter.com/imrLPcvdX2\n",
      " http://Bitcoin.org , the Crypto Resource Site Founded by Satoshi, Celebrates 10th Anniversary: It has now been 10 years since the web domain  http://Bitcoin.org  was registered by the Bitcoin project’s first developers, Satoshi Nakamoto and Martti…  http://dlvr.it/Qh4xKz \n",
      "Claim up to $3,000 in free slot bonuses on your first 3 deposits at CasinoMax online casino using coupon code MAX300. There are also free spins, free chips & cashback offers at this #USA online #casino. #Bitcoin payments are OK  http://bit.ly/2kg0oxP  pic.twitter.com/MS0Nip3xgy\n",
      "Wyre Adds MakerDAO Stablecoin Pairing for Global Money Transfers | Bitcoin Magazine  http://bit.ly/2MqrVcI \n",
      "#crypto price changes last hour🚀$RBY +7.18%$PINK +5.24%$CLAM +3.68%🌧️$CRB -10.53%$VRM -7.76%$AUR -4.32%#bitcoin #cryptocurrency\n",
      " http://youtu.be/gawnGnLKobU  Top 10 Bitcoin Villains -  http://Bitcoin.com  #3\n",
      "@APompliano Agreed. It’s why most coins exist to take ur bitcoin.\n",
      "Aug 26, 2018 00:00:00 UTC | 6,732.50$ | 5,790.00€ | 5,240.90£ | #Bitcoin #btc pic.twitter.com/cVs2vpAs0n\n",
      "Slots Plus is a #RTG online #casino that accepts USA players and Bitcoin http://www.sweetbet.com/slots-plus-casino-review/ … pic.twitter.com/yyWMJAEhdc\n",
      "BTC/USD Orderbook Density - Asks: $135610/$ within $6720-$7000 range ; Bids: $134377/$ within $6500-$6720 range $BTC $BTCUSD #bitcoin #orderbook\n",
      "Top 6 BTC/USD Exchange Orderbooks: Resistance til $7000:$38.0M; Support til $6500:$29.6M $BTC $BTCUSD #bitcoin #orderbook #markets #crypto\n",
      "This little-talked about correlation suggests bitcoin may end year 'explosively higher': Tom Lee  https://ift.tt/2MXrmHP \n",
      "The charts show that Bitcoin and Litecoin are in consolidation and will breakthrough soon forming an uptrend. It's time to buy now. #Watch #Verify #VerifiedAccount\n",
      "Buy Bitcoin now when the prices are rebounding strongly after a big correction. The sooner you buy the bigger profits you can make. #Winning #WesternUnion #WallStreet\n",
      "#bitcoin #ethereum #Criptomonedas #cryptocurrencies #Negocios #business #Internet DECIDE SI QUIERES APROVECHAR LA PRÓXIMA ALZA DE BITCOIN Y COMO SER RICO EN MENOS DE 2 AÑOS  http://bit.ly/escueladeriqueza2018 … pic.twitter.com/rpvfnMVOhJ\n",
      "You're looking at a happy robot. Bitcoin is up 0.60%.\n",
      "When Is The Right Time To Sell My Business?: The Expert Answer From Richard Mowrey   http://zpy.io/da2ee806  #bitcoin @blockchainflux\n",
      "Cryptocurrency Master Bundle: 5 Books In One! Everything You Need To Know About Cryptocurrency And Bitcoin Trading, Mining, Investing, Ethereum, Icos, And The Blockchain   http://zpy.io/7569a3d8  #ethereum @blockchainflux\n",
      "#BTCBitcoin USD: 6746.18 Bitcoin EUR: 5774.48 Bitcoin Yen: 746291.86 Bitcoin Ruble: 466903.10 #CgAn BTC AdDreSs: 1Bhgvcsm3P59fSCLg5G6DSstpV4srk5JTy https://bitcoincharts.com/ \n",
      "Bitcoin - Análise Técnica Para Curto e Médio Prazo - Análise Técnica de Criptomoedas, http://www.btc-current.nl/videos/bitcoin-analise-tecnica-para-curto-e-medio-prazo-analise-tecnica-de-criptomoedas/ …\n",
      "#ADA Price is 0.00001400 (-0.00000005) #BTC / 0.0944641243 (-0.00043) #USD. Market rank is 9. #cardano #bitcoin #blockchain\n",
      "#EOS Price is 0.00074784 (-0.00000063) #BTC / 5.0461958159 (-0.01015) #USD. Market rank is 5. #eos #bitcoin #blockchain\n",
      "#SUB Price is 0.00002786 (+0.00000011) #BTC / 0.1879919256 (+0.00053) #USD. Market rank is 89. #substratum #bitcoin #blockchain\n",
      "#Bitcoin $6,732.50 v #BitcoinCash $535.67 (BTC/BCH 12.6), Avg Transaction fee for #Bitcoin ~$0.57 v #BitcoinCash ~$0.01 - 2018/08/26 09:00JST\n",
      "¿Qué significa invertir en Bitcoin?  https://youtu.be/_whtcoKpibg  vía YouTube\n",
      "#XEM Price is 0.00001529 (+0.00000003) #BTC / 0.1032318742 (+0.00016) #USD. Market rank is 17. #nem #bitcoin #blockchain\n",
      "Now we accepting bitcoin @ Japheth 2013 INC  https://www.instagram.com/p/Bm69TBHHkCn/?utm_source=ig_twitter_share&igshid=1g3wmnflwopvx …\n"
     ]
    },
    {
     "name": "stdout",
     "output_type": "stream",
     "text": [
      "#DASH Price is 0.02146103 (+0.00002385) #BTC / 144.813065531 (-0.00691) #USD. Market rank is 14. #dash #bitcoin #blockchain\n",
      "A bet on PSG.LGD (map 2) vs. Evil Geniuses (map 2) gave 709.00 mBTC to an user at   https://fairlay.com/  #Fairlay #Bitcoin #Crypto\n",
      "Le système est vraiment bon car il fonctionne aussi bien dans les tendances et les consolidations.  http://www.mpfxi.com  #Bitcoin #Prime #EURO\n",
      "4 hr and Daily stoch topping off - top of bolly bands - and 6.8k looming. We are pulling back to 6.5 before we see 7k. Sorry boys. $btc #bitcoin\n",
      "Calling all talented #Bitcoin, #Blockchain, and #Crypto news writers. Publish your original content and get it seen by 10,000+ daily. Serious inquires only. Check out now before this opportunity ends:  https://crusayder.com/join-us/  pic.twitter.com/6B9X9lIvEv\n",
      "\"Raided yesterday at 6:30am for cashing out 500,000 in Bitcoin back in December 2017”  -- even cashing out on your coins legtimiately, there is still risk associated given the current atmosphere surrounding bank security and the cryptocurrency space:  https://news.bitcoin.com/funds-frozen-account-closed-uk-banks-target-cryptocurrency-owners/ …\n",
      "€ 5822.16 #bitcoin\n",
      "Copy this guys and Recover your Bitcoin bag! https://1broker.com/?r=35630 $LISK $APPC $LTC $ADA $ARN $VEN $XVG $ZXR $TUSD $WINGS $SALT $FUEL $ONT $IOTA $BTS $BAT $XLM $ZEC $WAN $VET $BNT $BCD $POE $GVT $QTUM $NEBL $NAS $STORM $OST $ZILakdafancph pic.twitter.com/WHJPogIFDl\n",
      "First traditional market token in Africa airdropping 300 ECR to participants. #airdrop #bounty #BTC #freetoken #Crypto #BountyHunter #Blockchain #cryptocurrency #freetoken #reward #bitcoin #EASTADSCREDIT #ethereum #ECR\n",
      "Hey its the top of the hour time to beg mrbeastyt for a bitcoin. Pls give me a bitcoin  pic.twitter.com/kK7kgqOQVt\n",
      "👽👾🔒Dentro de la tecnología blockchain y las criptomonedas, hay una tendencia creciente y problemática, que es el ‘Ataque del 51%’.#bitcoin #cryptocurrency #forex #money #blockchain https://www.alphacoins.mx/blog/qu%C3%A9-es-un-ataque-del-51 …\n",
      "We are working towards a future that is unhackable - #uncloak #cybersecurity #bitcoin #blockchain #cyberattacks #cybersolutions - https://uncloak.io/ \n",
      "BTC hourly update$6744.50    |    +0.0026%📈$BTC #BTCUSD #Bitcoin\n",
      "@MashiRafael Jajajaja mentiroso compulsivo todo el odio de la gente te lo ganaste a pulso mi presi.. Esta a la baja el Bitcoin 😕\n",
      "Congo's Child Cobalt Miners Can Be Saved by Blockchain Initiatives -  https://bitcoinnews.com/congos-child-cobalt-miners-can-be-saved-by-blockchain-initiatives/ … #bitcoin #blockchain\n",
      "DMarket Blockchain Marketplace Founder Talks Booming In-Game Item Purchasing Industry https://buff.ly/2wa6kMg #cryptocurrency #crypto #bitcoin #altcoin #blockchain #blockchaintechnology #decentralization #trading\n",
      "Crypto Prices UpdateBTC price: $6729.64ETH price: $277.43 Top traded altcoinsETH price: $277.36NANO price: $2.85ONT price: $2.35BCC price: $536.45Trade, Spend & Earn on the #1 crypto store: $trx $btc $eth $eos $bnb $ltc $bitcoin  https://www.mrcryptobtc.com \n",
      "Bitcoin’s comparative strength in the bear market has been evidenced by its steady ~2.5% growth in the last 7 days. Retaining the currency's ‘best house on a tough street’ appeal to investors  http://ow.ly/G2Rt30lvsNK  pic.twitter.com/2zgI8n4Riv\n",
      "Dear #Trump #Haters & #Lovers,#realDonaldTrump swears never an #Affair with #StormyDanielsBut we see #video caught #Trump tipping her $10,000 privately#Love #Bitcoin #Ethereum #Cryptocurrency #LiteCoin #ISIS #Xrp #BTC #Petco #FOX #CNN #IRSNEWS #FED #DOJ #FTC #ZOO #news pic.twitter.com/fBUcc6LiBq\n",
      "Are you aware of the dangers of IOT? - Read the EOT Business case here -  http://bit.ly/2CiaeUp #bitcoin #blockchain #crypto #cryptocurrency #coindesk #eot #fintech #iot pic.twitter.com/IlLZeF6Xh4\n",
      "This little-talked about correlation suggests bitcoin may end year &#039;explosively higher&#039;: Tom Lee  #Fina...  http://workwithteresabaker.com/this-little-talked-about-correlation-suggests-bitcoin-may-end-year-explosively-higher-tom-lee/ …\n",
      "Bitcoin Sell Short - Trading Idea - 25-th August 2018 #bitcoin · Trade $BTCUSD with up to 20x leverage:  https://trade.whaleclub.co/trade/BTC-USD  pic.twitter.com/iw5oTLlzbB\n",
      "Bitcoin (BTC) price: $6749.56, 24HR change: 38.15Ethereum (ETH) price: $277.56, 24HR change: -3.82\n",
      "Delincuentes cibernéticos vendiendo Bitcoin ATM Malware en Dark Web  https://buff.ly/2NdJQ3j \n",
      " https://www.diariobitcoin.com/index.php/2018/08/24/criptoexchange-coinbase-enumera-los-principios-basicos-para-servicio-de-inversion-institucional/ …..#25Agosto #Bitcoin #Blockchain #Ethereum#felizfinde #Crypto #DaleRT#siguemeytesigo #felizsabado #felizdia#dash #carnado #monero #ripple#Criptomonedas #Pagos #Tokens #videojuegos #fintech #Negocios\n",
      "#BTCUSD Market #1H timeframe on  August 25 at 23:00 (UTC)  is #Bullish.  #cryptocurrency #bitcoin #btc #crypto #trading #idea #report technical analysis\n",
      "Copy skilled traders automatically with Bitcoin! ✅I copy \"wangzai888\". Do you?➡️  https://1broker.com/?r=25023  ⬅️Legitimately a cool and effective 'set-and-forget' gain! 💰⛱️$VITE | $EOS | $NPXS | $LINK | $SC | $XVG | $BTC | $POLY | $STEEM | $FSN pic.twitter.com/0DWim7OZ0d\n",
      "Start earning your first bitcoin with only 100USD  https://ift.tt/2BUJbhQ \n",
      "Copy lucrative traders automatically with Bitcoin! ✅I copy \"wangzai888\". Do you?➡️  https://1broker.com/?r=25023  ⬅️Definitely a sweet and simple 'set-and-forget' gain! 💰⛱️$EGT | $KIN | $VET | $XMR | $ZRX | $ETH | $MANA | $BOX | $PAY | $KNC pic.twitter.com/bj9bm8zRFX\n",
      "現在の1ビットコインあたりの値段は749,281.3278円です。値段の取得日時はAug 25, 2018 23:59:00 UTCです #bitcoin #ビットコイン\n",
      "Duplicate skilled traders automatically with Bitcoin! ✅I copy \"wangzai888\". Do you?➡️  https://1broker.com/?r=25023  ⬅️Honestly a cool & rewarding 'set-and-forget' profit! 💰⛱️$PST | $ARDR | $KCS | $IOTX | $SWFTC | $PIVX | $POWR | $AION | $MAID | $PIVX\n",
      "Bitcoin Lost: The Heroic and Maddening World of Crypto Wallet Recovery  http://dlvr.it/Qh4x51  pic.twitter.com/7tYJWFVJN9\n",
      "Post: Livros sobre bitcoin e blockchain - Parte 1 https://blog.watchcoins.net/livros-sobre-bitcoin-e-blockchain-parte-1 …#watchcoins #repost #bitcoin #cryptocurrencies\n",
      "A new post: Bloomberg: More Than $500 Mln Tether Issued in August Is Not Impacting Crypto Markets is added on  https://www.altnews.nu/bloomberg-more-than-500-mln-tether-issued-in-august-is-not-impacting-crypto-markets/ … #altnewsnu #altcoin #bitcoin #news\n",
      "Bitcoin Price Watch: Currency Shows Signs of Maturing, Hits $6,700  https://go.bitrss.com/tEbgw  pic.twitter.com/SEuOij1G3M\n",
      "Aug 25, 2018 05:00PM #Bitcoin Price:USD 6745.00 | EUR 5774.93 | JPY 746250.44\n",
      "El Fabuloso Mundo de las #Criptomonedas #Bitcoin #Venezuela  http://bit.ly/1RZQftk  pic.twitter.com/XofFULSMlU\n",
      "Coin 📋: #NAVCoin $NAVDescription 💡: Bitcoin with private transactionsPrice: 4004sat / $0.2724h change: 1.81%Market Cap. 💰: $17,076,690Twitter: ?@NavCoin#crypto #cryptocurrency\n",
      "This little-talked about correlation suggests bitcoin may end year 'explosively higher': Tom Lee  http://dlvr.it/Qh4x54  pic.twitter.com/TCcFd4Ufe2\n",
      "#boxing - #RaymundoBeltran vs #JosePedraza is starting. 0.89875333 #Bitcoin Unmatched -  https://www.betbtc.co/events/beltran-v-pedraza-2322778 …\n",
      "Columbus is talking about bitcoin, but have y’all heard about dining dollars??\n",
      "2018/08/26 09:00BTC 747651円ETH 30814.4円ETC 1387.9円BCH 59525.8円XRP 36.3円XEM 11.4円LSK 554.5円MONA 173.9円#仮想通貨 #ビットコイン #Bitcoin #bitFlyer #Coincheck\n",
      "5 Min to show time  can we get @BigChonis on the line? He might be hungover still from his super model party last night!  https://www.youtube.com/watch?v=-8mxgdV8sTg …@AltOne_Crypto #BTC #bitcoin #bitcoinprice @tradingroomapp Get well buddy @BigCheds @crypto_birb @CryptoArch_ @ValCoins pic.twitter.com/j8YYSc37jE\n",
      "現在の価格は 750,717円です。前回比は388円(0.05%)です。 #ビットコイン #bitcoin #btc $BTCJPY via @bitFlyer #ブロックチェーン\n",
      "Czech Republic Introduces Law Regulating (Restricting) Bitcoin  http://www.btcbitcoinnews.com/news/165728  pic.twitter.com/XcKlC4zKwr\n",
      "Crypto Markets Sluggish on Saturday as Bitcoin Increases Dominance  http://dlvr.it/Qh4x48  pic.twitter.com/Dae7hdImI3\n",
      "#BTC The price of #Bitcoin is currently $6769.9499 #Crypto $BTC\n",
      "Free Bitcoin Mining earn without investing anything join now for free  https://ift.tt/2hG6NOa  #ShareTheBlessings\n",
      "Frente a una guerra de divisas, Bitcoin sería una de las ganadoras  https://www.criptonoticias.com/adopcion/frente-guerra-divisas-bitcoin-seria-ganadoras/?utm_source=dlvr.it&utm_medium=twitter … pic.twitter.com/6EpGnkVc5p\n"
     ]
    }
   ],
   "source": [
    "#Run\n",
    "twint.run.Search(c)"
   ]
  },
  {
   "cell_type": "code",
   "execution_count": null,
   "metadata": {},
   "outputs": [],
   "source": []
  },
  {
   "cell_type": "code",
   "execution_count": null,
   "metadata": {},
   "outputs": [],
   "source": []
  },
  {
   "cell_type": "code",
   "execution_count": null,
   "metadata": {},
   "outputs": [],
   "source": []
  }
 ],
 "metadata": {
  "kernelspec": {
   "display_name": "Python 3",
   "language": "python",
   "name": "python3"
  },
  "language_info": {
   "codemirror_mode": {
    "name": "ipython",
    "version": 3
   },
   "file_extension": ".py",
   "mimetype": "text/x-python",
   "name": "python",
   "nbconvert_exporter": "python",
   "pygments_lexer": "ipython3",
   "version": "3.6.5"
  }
 },
 "nbformat": 4,
 "nbformat_minor": 2
}
